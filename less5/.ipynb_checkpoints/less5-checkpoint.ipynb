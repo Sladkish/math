{
 "cells": [
  {
   "cell_type": "code",
   "execution_count": 4,
   "metadata": {},
   "outputs": [],
   "source": [
    "import numpy as np\n",
    "import math\n",
    "import seaborn as sns\n",
    "import matplotlib.pyplot as plt\n",
    "import matplotlib.mlab as mlab\n",
    "import random\n",
    "import itertools"
   ]
  },
  {
   "cell_type": "markdown",
   "metadata": {},
   "source": [
    "1. Напишите код, моделирующий выпадение поля в рулетке (с учетом поля зеро)."
   ]
  },
  {
   "cell_type": "code",
   "execution_count": 5,
   "metadata": {},
   "outputs": [
    {
     "name": "stdin",
     "output_type": "stream",
     "text": [
      "нажмите ввод чтобы покрутить рулетку \n"
     ]
    },
    {
     "name": "stdout",
     "output_type": "stream",
     "text": [
      "выпало:  10\n"
     ]
    },
    {
     "name": "stdin",
     "output_type": "stream",
     "text": [
      "нажмите ввод чтобы покрутить рулетку \n"
     ]
    },
    {
     "name": "stdout",
     "output_type": "stream",
     "text": [
      "выпало:  21\n"
     ]
    },
    {
     "name": "stdin",
     "output_type": "stream",
     "text": [
      "нажмите ввод чтобы покрутить рулетку \n"
     ]
    },
    {
     "name": "stdout",
     "output_type": "stream",
     "text": [
      "выпало:  14\n"
     ]
    },
    {
     "name": "stdin",
     "output_type": "stream",
     "text": [
      "нажмите ввод чтобы покрутить рулетку \n"
     ]
    },
    {
     "name": "stdout",
     "output_type": "stream",
     "text": [
      "выпало:  29\n"
     ]
    },
    {
     "name": "stdin",
     "output_type": "stream",
     "text": [
      "нажмите ввод чтобы покрутить рулетку \n"
     ]
    },
    {
     "name": "stdout",
     "output_type": "stream",
     "text": [
      "выпало:  10\n"
     ]
    },
    {
     "name": "stdin",
     "output_type": "stream",
     "text": [
      "нажмите ввод чтобы покрутить рулетку \n"
     ]
    },
    {
     "name": "stdout",
     "output_type": "stream",
     "text": [
      "выпало:  16\n"
     ]
    },
    {
     "name": "stdin",
     "output_type": "stream",
     "text": [
      "нажмите ввод чтобы покрутить рулетку \n"
     ]
    },
    {
     "name": "stdout",
     "output_type": "stream",
     "text": [
      "выпало:  20\n"
     ]
    }
   ],
   "source": [
    "for i in range(0,7):\n",
    "    a = input(\"нажмите ввод чтобы покрутить рулетку\")\n",
    "    x = np.random.randint(0,36)\n",
    "    print('выпало: ',x)\n",
    "        "
   ]
  },
  {
   "cell_type": "markdown",
   "metadata": {},
   "source": [
    "2.2\n",
    "Сгенерируйте десять выборок случайных чисел х0, …, х9.\n",
    "и постройте гистограмму распределения случайной суммы х0+х1+ …+ х9."
   ]
  },
  {
   "cell_type": "code",
   "execution_count": 6,
   "metadata": {},
   "outputs": [],
   "source": [
    "Y=[]\n",
    "for i in range(10):\n",
    "    Y.append(np.random.rand(100000))"
   ]
  },
  {
   "cell_type": "code",
   "execution_count": 7,
   "metadata": {},
   "outputs": [
    {
     "data": {
      "text/plain": [
       "array([4.87132358, 5.80044251, 4.24822462, ..., 5.24812111, 5.52122269,\n",
       "       4.7331611 ])"
      ]
     },
     "execution_count": 7,
     "metadata": {},
     "output_type": "execute_result"
    }
   ],
   "source": [
    "sumY=sum(Y)\n",
    "sumY"
   ]
  },
  {
   "cell_type": "code",
   "execution_count": 8,
   "metadata": {},
   "outputs": [
    {
     "data": {
      "image/png": "[encoded data removed]",
      "text/plain": [
       "<Figure size 432x288 with 1 Axes>"
      ]
     },
     "metadata": {
      "needs_background": "light"
     },
     "output_type": "display_data"
    }
   ],
   "source": [
    "num_bins=15\n",
    "n, bins, patches = plt.hist(sumY, num_bins)"
   ]
  },
  {
   "cell_type": "code",
   "execution_count": 9,
   "metadata": {},
   "outputs": [
    {
     "data": {
      "text/plain": [
       "<matplotlib.axes._subplots.AxesSubplot at 0x262616fd1d0>"
      ]
     },
     "execution_count": 9,
     "metadata": {},
     "output_type": "execute_result"
    },
    {
     "data": {
      "image/png": "[encoded data removed]",
      "text/plain": [
       "<Figure size 432x288 with 1 Axes>"
      ]
     },
     "metadata": {
      "needs_background": "light"
     },
     "output_type": "display_data"
    }
   ],
   "source": [
    "sns.distplot(sumY)\n"
   ]
  },
  {
   "cell_type": "markdown",
   "metadata": {},
   "source": [
    "2.1 Напишите код, проверяющий любую из теорем сложения или умножения вероятности на примере рулетки или подбрасывания монетки."
   ]
  },
  {
   "cell_type": "code",
   "execution_count": 10,
   "metadata": {},
   "outputs": [
    {
     "name": "stdout",
     "output_type": "stream",
     "text": [
      "Wall time: 0 ns\n"
     ]
    }
   ],
   "source": [
    "%time\n",
    "N=5000000\n",
    "roul1_n0=0\n",
    "roul1_n1=0\n",
    "roul1_2_n0=0\n",
    "for i in range(N):\n",
    "    roul1=random.randint(0,36)\n",
    "    if roul1==0:\n",
    "        roul1_n0+=1\n",
    "    if roul1==1:\n",
    "        roul1_n1+=1\n",
    "    roul2=random.randint(0,36)\n",
    "    if roul1==roul2==0:\n",
    "        roul1_2_n0+=1\n",
    "  "
   ]
  },
  {
   "cell_type": "code",
   "execution_count": 11,
   "metadata": {},
   "outputs": [
    {
     "data": {
      "text/plain": [
       "(135015, 135210, 3594)"
      ]
     },
     "execution_count": 11,
     "metadata": {},
     "output_type": "execute_result"
    }
   ],
   "source": [
    "roul1_n0, roul1_n1,roul1_2_n0\n"
   ]
  },
  {
   "cell_type": "code",
   "execution_count": 12,
   "metadata": {},
   "outputs": [],
   "source": [
    "P0=roul1_n0/N\n",
    "P1=roul1_n1/N"
   ]
  },
  {
   "cell_type": "markdown",
   "metadata": {},
   "source": [
    " вероятность выпадания числа равна P=1/37=0.027"
   ]
  },
  {
   "cell_type": "code",
   "execution_count": 13,
   "metadata": {},
   "outputs": [
    {
     "data": {
      "text/plain": [
       "(0.027003, 0.027042)"
      ]
     },
     "execution_count": 13,
     "metadata": {},
     "output_type": "execute_result"
    }
   ],
   "source": [
    "P0,P1"
   ]
  },
  {
   "cell_type": "markdown",
   "metadata": {},
   "source": [
    "Проверяем теорему сложения. Вероятность что выпадут и зеро и единица на одной рулетке в течении \n",
    "одного экперимента\n",
    "\n",
    "P(0+1)=P(0) + P(1)=1/37+1/37=2/37=0.054"
   ]
  },
  {
   "cell_type": "code",
   "execution_count": 14,
   "metadata": {},
   "outputs": [
    {
     "data": {
      "text/plain": [
       "0.054044999999999996"
      ]
     },
     "execution_count": 14,
     "metadata": {},
     "output_type": "execute_result"
    }
   ],
   "source": [
    "P01=P0+P1\n",
    "P01"
   ]
  },
  {
   "cell_type": "markdown",
   "metadata": {},
   "source": [
    "Проверяем теорему умножения. Вероятность того что на двух рулетках одновременно будет выпадать зеро\n",
    "\n",
    "(1/37)*(1/37)"
   ]
  },
  {
   "cell_type": "code",
   "execution_count": 106,
   "metadata": {},
   "outputs": [
    {
     "data": {
      "text/plain": [
       "0.0007304601899196495"
      ]
     },
     "execution_count": 106,
     "metadata": {},
     "output_type": "execute_result"
    }
   ],
   "source": [
    "(1/37)*(1/37)"
   ]
  },
  {
   "cell_type": "code",
   "execution_count": 107,
   "metadata": {},
   "outputs": [
    {
     "data": {
      "text/plain": [
       "0.0007188"
      ]
     },
     "execution_count": 107,
     "metadata": {},
     "output_type": "execute_result"
    }
   ],
   "source": [
    "P00=roul1_2_n0/N\n",
    "P00"
   ]
  },
  {
   "cell_type": "markdown",
   "metadata": {},
   "source": [
    "3.1 Дополните код Монте-Карло последовательности независимых испытаний расчетом соответствующих вероятностей (через биномиальное распределение) \n",
    "и сравните результаты."
   ]
  },
  {
   "cell_type": "code",
   "execution_count": 108,
   "metadata": {},
   "outputs": [
    {
     "name": "stdout",
     "output_type": "stream",
     "text": [
      "375188 1000000 0.375188\n"
     ]
    }
   ],
   "source": [
    "k, n= 0 , 1000000\n",
    "a=np.random.randint(0,2,n)\n",
    "b=np.random.randint(0,2,n)\n",
    "c=np.random.randint(0,2,n)\n",
    "d=np.random.randint(0,2,n)\n",
    "x=a+b+c+d\n",
    "for i in range(0,n):\n",
    "    if x[i] == 2:\n",
    "        k=k+1\n",
    "# print(a,b,c,d)\n",
    "# print(x)\n",
    "print(k,n,k/n)\n"
   ]
  },
  {
   "cell_type": "code",
   "execution_count": 109,
   "metadata": {},
   "outputs": [
    {
     "data": {
      "text/plain": [
       "(6.0, 0.375)"
      ]
     },
     "execution_count": 109,
     "metadata": {},
     "output_type": "execute_result"
    }
   ],
   "source": [
    "n=4\n",
    "k=2\n",
    "C=math.factorial(n)/(math.factorial(k)*math.factorial(n-k))\n",
    "P=C/(2**n)\n",
    "C,P"
   ]
  },
  {
   "cell_type": "markdown",
   "metadata": {},
   "source": [
    "3.2 Повторите расчеты биномиальных коэффициентов и вероятностей k успехов в последовательности из n независимых испытаний, взяв другие значения n и k."
   ]
  },
  {
   "cell_type": "code",
   "execution_count": 110,
   "metadata": {},
   "outputs": [
    {
     "name": "stdout",
     "output_type": "stream",
     "text": [
      "313167 1000000 0.313167\n"
     ]
    }
   ],
   "source": [
    "k, n= 0 , 1000000\n",
    "a=np.random.randint(0,2,n)\n",
    "b=np.random.randint(0,2,n)\n",
    "c=np.random.randint(0,2,n)\n",
    "d=np.random.randint(0,2,n)\n",
    "e=np.random.randint(0,2,n)\n",
    "f=np.random.randint(0,2,n)\n",
    "x=a+b+c+d+e+f\n",
    "for i in range(0,n):\n",
    "    if x[i] == 3:\n",
    "        k=k+1\n",
    "# print(a,b,c,d)\n",
    "# print(x)\n",
    "print(k,n,k/n)\n"
   ]
  },
  {
   "cell_type": "code",
   "execution_count": 111,
   "metadata": {},
   "outputs": [
    {
     "data": {
      "text/plain": [
       "(20.0, 0.3125)"
      ]
     },
     "execution_count": 111,
     "metadata": {},
     "output_type": "execute_result"
    }
   ],
   "source": [
    "n=6\n",
    "k=3\n",
    "C=math.factorial(n)/(math.factorial(k)*math.factorial(n-k))\n",
    "P=C/(2**n)\n",
    "C,P"
   ]
  },
  {
   "cell_type": "code",
   "execution_count": null,
   "metadata": {},
   "outputs": [],
   "source": []
  },
  {
   "cell_type": "code",
   "execution_count": 112,
   "metadata": {},
   "outputs": [],
   "source": [
    "# mu=100\n",
    "# sigma=15\n",
    "# x=mu*sigma*np.random.randn(10000)\n",
    "# num_bins=20\n",
    "# n, bins, patches = plt.hist(x, num_bins,normed=1, facecolor='blue', alpha=0.5)\n",
    "# y=mlab.normpdf(bins, mu, sigma)\n",
    "# plt.plot(bins,y, 'r--')\n",
    "# plt.subplots_adjust(left=15)"
   ]
  },
  {
   "cell_type": "code",
   "execution_count": 113,
   "metadata": {},
   "outputs": [
    {
     "name": "stdout",
     "output_type": "stream",
     "text": [
      "111\n",
      "112\n",
      "113\n",
      "121\n",
      "122\n",
      "123\n",
      "131\n",
      "132\n",
      "133\n",
      "211\n",
      "212\n",
      "213\n",
      "221\n",
      "222\n",
      "223\n",
      "231\n",
      "232\n",
      "233\n",
      "311\n",
      "312\n",
      "313\n",
      "321\n",
      "322\n",
      "323\n",
      "331\n",
      "332\n",
      "333\n",
      "колличество 27\n"
     ]
    }
   ],
   "source": [
    "a=[]\n",
    "for p in itertools.product(\"123\",repeat=3):\n",
    "    a.append(p)\n",
    "    print(''.join(p))\n",
    "\n",
    "print(\"колличество\", len(a))"
   ]
  },
  {
   "cell_type": "code",
   "execution_count": 114,
   "metadata": {},
   "outputs": [
    {
     "name": "stdout",
     "output_type": "stream",
     "text": [
      "123\n",
      "132\n",
      "213\n",
      "231\n",
      "312\n",
      "321\n",
      "колличество 6\n"
     ]
    }
   ],
   "source": [
    "a=[]\n",
    "for p in itertools.permutations(\"123\",3):\n",
    "    a.append(p)\n",
    "    print(''.join(str(x) for x in p))\n",
    "print(\"колличество\", len(a))"
   ]
  },
  {
   "cell_type": "code",
   "execution_count": 115,
   "metadata": {},
   "outputs": [
    {
     "name": "stdout",
     "output_type": "stream",
     "text": [
      "123\n",
      "колличество 1\n"
     ]
    }
   ],
   "source": [
    "a=[]\n",
    "for p in itertools.combinations(\"123\",3):\n",
    "    a.append(p)\n",
    "    print(''.join(str(x) for x in p))\n",
    "print(\"колличество\", len(a))"
   ]
  },
  {
   "cell_type": "markdown",
   "metadata": {},
   "source": [
    "5 Дополните код расчетом коэффициента корреляции x и y по формуле"
   ]
  },
  {
   "cell_type": "code",
   "execution_count": 116,
   "metadata": {},
   "outputs": [
    {
     "name": "stdout",
     "output_type": "stream",
     "text": [
      "0.8955077538105555 0.048934258417076035\n",
      "0.8955077538105553 0.04893425841707617\n",
      "0.9937910451989153\n",
      "[[1.         0.99379105]\n",
      " [0.99379105 1.        ]]\n"
     ]
    },
    {
     "name": "stderr",
     "output_type": "stream",
     "text": [
      "C:\\Users\\Sladkish\\Anaconda3\\lib\\site-packages\\ipykernel_launcher.py:17: FutureWarning: `rcond` parameter will change to the default of machine precision times ``max(M, N)`` where M and N are the input matrix dimensions.\n",
      "To use the future default and silence this warning we advise to pass `rcond=None`, to keep using the old, explicitly pass `rcond=-1`.\n"
     ]
    },
    {
     "data": {
      "image/png": "[encoded data removed]",
      "text/plain": [
       "<Figure size 432x288 with 1 Axes>"
      ]
     },
     "metadata": {
      "needs_background": "light"
     },
     "output_type": "display_data"
    }
   ],
   "source": [
    "n=100\n",
    "r=0.9\n",
    "x=np.random.rand(n)\n",
    "y=r*x+(1-r)*np.random.rand(n)\n",
    "plt.plot(x,y,'o')\n",
    "plt.xlabel('x')\n",
    "plt.xlabel('y')\n",
    "plt.grid(True)\n",
    "a=(np.sum(x)*np.sum(y)-n*np.sum(x*y))/(np.sum(x)*np.sum(x)-n*np.sum(x*x))\n",
    "b=(np.sum(y)-a*np.sum(x))/n\n",
    "dx=x-np.mean(x)\n",
    "dy=y-np.mean(y)\n",
    "R=np.sum(dx*dy)/((np.sum(dx*dx)*np.sum(dy*dy))**0.5)\n",
    "\n",
    "\n",
    "A=np.vstack([x, np.ones(len(x))]).T\n",
    "a1,b1 = np.linalg.lstsq(A,y)[0]\n",
    "print(a,b)\n",
    "print(a1,b1)\n",
    "plt.plot([0,1], [b, a+b])\n",
    "# plt.show()\n",
    "c=np.corrcoef(x,y)\n",
    "print(R)\n",
    "print(c)"
   ]
  },
  {
   "cell_type": "code",
   "execution_count": null,
   "metadata": {},
   "outputs": [],
   "source": []
  }
 ],
 "metadata": {
  "kernelspec": {
   "display_name": "Python 3",
   "language": "python",
   "name": "python3"
  },
  "language_info": {
   "codemirror_mode": {
    "name": "ipython",
    "version": 3
   },
   "file_extension": ".py",
   "mimetype": "text/x-python",
   "name": "python",
   "nbconvert_exporter": "python",
   "pygments_lexer": "ipython3",
   "version": "3.7.3"
  }
 },
 "nbformat": 4,
 "nbformat_minor": 2
}
